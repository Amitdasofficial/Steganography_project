{
 "cells": [
  {
   "cell_type": "code",
   "execution_count": 1,
   "metadata": {},
   "outputs": [
    {
     "ename": "ModuleNotFoundError",
     "evalue": "No module named 'cv2'",
     "output_type": "error",
     "traceback": [
      "\u001b[1;31m---------------------------------------------------------------------------\u001b[0m",
      "\u001b[1;31mModuleNotFoundError\u001b[0m                       Traceback (most recent call last)",
      "\u001b[1;32mC:\\Users\\AMITDA~1\\AppData\\Local\\Temp/ipykernel_9180/1357251638.py\u001b[0m in \u001b[0;36m<module>\u001b[1;34m\u001b[0m\n\u001b[0;32m      1\u001b[0m \u001b[1;31m#import all the required libraries\u001b[0m\u001b[1;33m\u001b[0m\u001b[1;33m\u001b[0m\u001b[0m\n\u001b[0;32m      2\u001b[0m \u001b[1;33m\u001b[0m\u001b[0m\n\u001b[1;32m----> 3\u001b[1;33m \u001b[1;32mimport\u001b[0m \u001b[0mcv2\u001b[0m\u001b[1;33m\u001b[0m\u001b[1;33m\u001b[0m\u001b[0m\n\u001b[0m\u001b[0;32m      4\u001b[0m \u001b[1;32mimport\u001b[0m \u001b[0mnumpy\u001b[0m \u001b[1;32mas\u001b[0m \u001b[0mnp\u001b[0m\u001b[1;33m\u001b[0m\u001b[1;33m\u001b[0m\u001b[0m\n\u001b[0;32m      5\u001b[0m \u001b[1;32mimport\u001b[0m \u001b[0mtypes\u001b[0m\u001b[1;33m\u001b[0m\u001b[1;33m\u001b[0m\u001b[0m\n",
      "\u001b[1;31mModuleNotFoundError\u001b[0m: No module named 'cv2'"
     ]
    }
   ],
   "source": [
    "#import all the required libraries\n",
    "\n",
    "import cv2\n",
    "import numpy as np\n",
    "import types\n",
    "#image using cv2.imshow() thus use this import\n",
    "%matplotlib inline\n",
    "#The line above is necesary to show Matplotlib's plots inside a Jupyter Notebook\n",
    "from matplotlib import pyplot as plt\n"
   ]
  },
  {
   "cell_type": "code",
   "execution_count": 2,
   "metadata": {},
   "outputs": [],
   "source": [
    "def messageToBinary(message):\n",
    "      if type(message) == str:\n",
    "        return ''.join([ format(ord(i), \"08b\") for i in message ])\n",
    "      elif type(message) == bytes or type(message) == np.ndarray:\n",
    "        return [ format(i, \"08b\") for i in message ]\n",
    "      elif type(message) == int or type(message) == np.uint8:\n",
    "        return format(message, \"08b\")\n",
    "      else:\n",
    "        raise TypeError(\"Input type not supported\")"
   ]
  },
  {
   "cell_type": "code",
   "execution_count": 3,
   "metadata": {},
   "outputs": [],
   "source": [
    "# Function to hide the secret message into the image\n",
    "\n",
    "def hideData(image, secret_message):\n",
    "\n",
    "  # calculate the maximum bytes to encode\n",
    "  n_bytes = image.shape[0] * image.shape[1] * 3 // 8\n",
    "  print(\"Maximum bytes to encode:\", n_bytes)\n",
    "\n",
    "  #Check if the number of bytes to encode is less than the maximum bytes in the image\n",
    "  if len(secret_message) > n_bytes:\n",
    "      raise ValueError(\"Error encountered insufficient bytes, need bigger image or less data !!\")\n",
    "  \n",
    "  secret_message += \"#####\" # any string as the delimeter\n",
    "\n",
    "  data_index = 0\n",
    "  # convert input data to binary format using messageToBinary() fucntion\n",
    "  binary_secret_msg = messageToBinary(secret_message)\n",
    "\n",
    "  data_len = len(binary_secret_msg) #Find the length of data that needs to be hidden\n",
    "  for values in image:\n",
    "      for pixel in values:\n",
    "          # convert RGB values to binary format\n",
    "          r, g, b = messageToBinary(pixel)\n",
    "         \n",
    "          if data_index < data_len:\n",
    "              # hide the data into least significant bit of red pixel\n",
    "              pixel[0] = int(r[:-1] + binary_secret_msg[data_index], 2)\n",
    "              data_index += 1\n",
    "          if data_index < data_len:\n",
    "              # hide the data into least significant bit of green pixel\n",
    "              pixel[1] = int(g[:-1] + binary_secret_msg[data_index], 2)\n",
    "              data_index += 1\n",
    "          if data_index < data_len:\n",
    "              # hide the data into least significant bit of  blue pixel\n",
    "              pixel[2] = int(b[:-1] + binary_secret_msg[data_index], 2)\n",
    "              data_index += 1\n",
    "          if data_index >= data_len:\n",
    "              break\n",
    "\n",
    "  return image"
   ]
  },
  {
   "cell_type": "code",
   "execution_count": 4,
   "metadata": {},
   "outputs": [],
   "source": [
    "def showData(image):\n",
    "\n",
    "  binary_data = \"\"\n",
    "  for values in image:\n",
    "      for pixel in values:\n",
    "          r, g, b = messageToBinary(pixel) \n",
    "          binary_data += r[-1] \n",
    "          binary_data += g[-1] \n",
    "          binary_data += b[-1] \n",
    "  # split by 8-bits\n",
    "  all_bytes = [ binary_data[i: i+8] for i in range(0, len(binary_data), 8) ]\n",
    "  # convert from bits to characters\n",
    "  decoded_data = \"\"\n",
    "  for byte in all_bytes:\n",
    "      decoded_data += chr(int(byte, 2))\n",
    "      if decoded_data[-5:] == \"#####\": # if reached the delimeter which is \"#####\"\n",
    "          break\n",
    "  #print(decoded_data)\n",
    "  return decoded_data[:-5] #remove the delimeter to show the original hidden message"
   ]
  },
  {
   "cell_type": "code",
   "execution_count": 5,
   "metadata": {},
   "outputs": [],
   "source": [
    "# Encode data into image \n",
    "def encode_text(): \n",
    "  image_name = input(\"Enter image name(with extension): \") \n",
    "  image = cv2.imread(image_name) # Read the input image using OpenCV-Python.\n",
    "    \n",
    "  #details of the image\n",
    "\n",
    "  print(\"The shape of the image is: \",image.shape) #check the shape of image to calculate the number of bytes in it\n",
    "  print(\"The original image is as shown below: \")\n",
    "  \n",
    "\n",
    "## image can be resized too. I didn't do it for my convenience.\n",
    "\n",
    "#Show the image with matplotlib\n",
    "  plt.imshow(image)\n",
    "  plt.show()\n",
    "\n",
    "  \n",
    "      \n",
    "  data = input(\"Enter data to be encoded : \") \n",
    "  if (len(data) == 0): \n",
    "    raise ValueError('Data is empty')\n",
    "  \n",
    "  filename = input(\"Enter the name of new encoded image(with extension): \")\n",
    "  encoded_image = hideData(image, data) # call the hideData function to hide the secret message \n",
    "  cv2.imwrite(filename, encoded_image)"
   ]
  },
  {
   "cell_type": "code",
   "execution_count": 6,
   "metadata": {},
   "outputs": [],
   "source": [
    "# Decode the data in the image \n",
    "def decode_text():\n",
    "  # read the image that contains the hidden image\n",
    "  image_name = input(\"Enter the name of the steganographed image that you want to decode (with extension) :\") \n",
    "  image = cv2.imread(image_name) #read the image using cv2.imread() \n",
    "\n",
    "  print(\"The Steganographed image is as shown below: \")\n",
    "  #resized_image = cv2.resize(image, (500, 500))  #resize the original image as per your requirement\n",
    "  \n",
    "   \n",
    "  plt.imshow(image)\n",
    "  plt.show()\n",
    "    \n",
    "  text = showData(image)\n",
    "  return text"
   ]
  },
  {
   "cell_type": "code",
   "execution_count": null,
   "metadata": {},
   "outputs": [],
   "source": [
    "# Image Steganography         \n",
    "def Steganography(): \n",
    "    a = input(\"Image Steganography \\n 1. Encode the data \\n 2. Decode the data \\n Your input is: \")\n",
    "    userinput = int(a)\n",
    "    if (userinput == 1):\n",
    "      print(\"\\nEncoding....\")\n",
    "      encode_text() \n",
    "          \n",
    "    elif (userinput == 2):\n",
    "      print(\"\\nDecoding....\") \n",
    "      print(\"Decoded message is: \" + decode_text()) \n",
    "    else: \n",
    "        raise Exception(\"Enter correct input\") \n",
    "          \n",
    "Steganography()"
   ]
  },
  {
   "cell_type": "code",
   "execution_count": null,
   "metadata": {},
   "outputs": [],
   "source": [
    "Steganography()\n"
   ]
  },
  {
   "cell_type": "code",
   "execution_count": null,
   "metadata": {},
   "outputs": [],
   "source": []
  },
  {
   "cell_type": "code",
   "execution_count": null,
   "metadata": {},
   "outputs": [],
   "source": []
  }
 ],
 "metadata": {
  "kernelspec": {
   "display_name": "Python 3 (ipykernel)",
   "language": "python",
   "name": "python3"
  },
  "language_info": {
   "codemirror_mode": {
    "name": "ipython",
    "version": 3
   },
   "file_extension": ".py",
   "mimetype": "text/x-python",
   "name": "python",
   "nbconvert_exporter": "python",
   "pygments_lexer": "ipython3",
   "version": "3.9.7"
  }
 },
 "nbformat": 4,
 "nbformat_minor": 4
}
